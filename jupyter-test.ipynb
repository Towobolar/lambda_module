{
 "cells": [
  {
   "cell_type": "code",
   "execution_count": 1,
   "metadata": {},
   "outputs": [],
   "source": [
    "import boto3"
   ]
  },
  {
   "cell_type": "code",
   "execution_count": 2,
   "metadata": {},
   "outputs": [],
   "source": [
    "s3 = boto3.resource('s3')"
   ]
  },
  {
   "cell_type": "code",
   "execution_count": 3,
   "metadata": {},
   "outputs": [
    {
     "name": "stdout",
     "output_type": "stream",
     "text": [
      "abbeybototest\n",
      "testabbeyboto\n"
     ]
    }
   ],
   "source": [
    "for bucket in s3.buckets.all():\n",
    "    print(bucket.name)"
   ]
  },
  {
   "cell_type": "code",
   "execution_count": 4,
   "metadata": {},
   "outputs": [],
   "source": [
    "with open('test.jpg', 'rb') as data:\n",
    "    s3.Bucket('abbeybototest').put_object(Key='test.jpg', Body=data)"
   ]
  },
  {
   "cell_type": "code",
   "execution_count": 3,
   "metadata": {},
   "outputs": [],
   "source": [
    "import boto3\n",
    "sqs = boto3.resource('sqs')"
   ]
  },
  {
   "cell_type": "code",
   "execution_count": 4,
   "metadata": {},
   "outputs": [],
   "source": [
    "queue = sqs.create_queue(QueueName='test', Attributes={'DelaySeconds': '5'})"
   ]
  },
  {
   "cell_type": "code",
   "execution_count": 6,
   "metadata": {},
   "outputs": [
    {
     "name": "stdout",
     "output_type": "stream",
     "text": [
      "https://sqs.eu-west-2.amazonaws.com/867025182183/test\n",
      "5\n"
     ]
    }
   ],
   "source": [
    "print(queue.url)\n",
    "print(queue.attributes.get('DelaySeconds'))"
   ]
  },
  {
   "cell_type": "code",
   "execution_count": 7,
   "metadata": {},
   "outputs": [
    {
     "name": "stdout",
     "output_type": "stream",
     "text": [
      "https://sqs.eu-west-2.amazonaws.com/867025182183/test\n"
     ]
    }
   ],
   "source": [
    "for queue in sqs.queues.all():\n",
    "    print(queue.url)"
   ]
  },
  {
   "cell_type": "code",
   "execution_count": 8,
   "metadata": {},
   "outputs": [
    {
     "name": "stdout",
     "output_type": "stream",
     "text": [
      "bf980f03-6c0d-4708-bb6e-2a2fcb7c1274\n",
      "7d793037a0760186574b0282f2f435e7\n"
     ]
    }
   ],
   "source": [
    "sqs = boto3.resource('sqs')\n",
    "queue = sqs.get_queue_by_name(QueueName='test')\n",
    "response = queue.send_message(MessageBody='world')\n",
    "print(response.get('MessageId'))\n",
    "print(response.get('MD5OfMessageBody'))"
   ]
  },
  {
   "cell_type": "code",
   "execution_count": 10,
   "metadata": {},
   "outputs": [
    {
     "data": {
      "text/plain": [
       "{'MD5OfMessageBody': '6686853da3491a56c98917cc5c4ddea2',\n",
       " 'MD5OfMessageAttributes': '1c20e2cb60c4d15ac5936b33935f0932',\n",
       " 'MessageId': 'a1f90197-b576-45ec-a692-a31c2512ecbf',\n",
       " 'ResponseMetadata': {'RequestId': '1448ffaa-dd73-5a0e-a3a0-a1159254ad01',\n",
       "  'HTTPStatusCode': 200,\n",
       "  'HTTPHeaders': {'x-amzn-requestid': '1448ffaa-dd73-5a0e-a3a0-a1159254ad01',\n",
       "   'date': 'Thu, 16 May 2024 00:01:43 GMT',\n",
       "   'content-type': 'text/xml',\n",
       "   'content-length': '459',\n",
       "   'connection': 'keep-alive'},\n",
       "  'RetryAttempts': 0}}"
      ]
     },
     "execution_count": 10,
     "metadata": {},
     "output_type": "execute_result"
    }
   ],
   "source": [
    "queue.send_message(MessageBody='boto3', MessageAttributes={\n",
    "    'Author': {\n",
    "        'StringValue': 'Abiodun',\n",
    "        'DataType': 'String'\n",
    "    }\n",
    "})"
   ]
  },
  {
   "cell_type": "code",
   "execution_count": 11,
   "metadata": {},
   "outputs": [
    {
     "name": "stdout",
     "output_type": "stream",
     "text": [
      "{'Reservations': [], 'ResponseMetadata': {'RequestId': 'ac9f9320-6dfc-4e29-ac88-63655f9e5de6', 'HTTPStatusCode': 200, 'HTTPHeaders': {'x-amzn-requestid': 'ac9f9320-6dfc-4e29-ac88-63655f9e5de6', 'cache-control': 'no-cache, no-store', 'strict-transport-security': 'max-age=31536000; includeSubDomains', 'content-type': 'text/xml;charset=UTF-8', 'content-length': '230', 'date': 'Thu, 16 May 2024 00:31:34 GMT', 'server': 'AmazonEC2'}, 'RetryAttempts': 0}}\n"
     ]
    }
   ],
   "source": [
    "import boto3\n",
    "\n",
    "ec2 = boto3.client('ec2')\n",
    "response = ec2.describe_instances()\n",
    "print(response)"
   ]
  }
 ],
 "metadata": {
  "kernelspec": {
   "display_name": "Python 3",
   "language": "python",
   "name": "python3"
  },
  "language_info": {
   "codemirror_mode": {
    "name": "ipython",
    "version": 3
   },
   "file_extension": ".py",
   "mimetype": "text/x-python",
   "name": "python",
   "nbconvert_exporter": "python",
   "pygments_lexer": "ipython3",
   "version": "3.12.3"
  }
 },
 "nbformat": 4,
 "nbformat_minor": 2
}
